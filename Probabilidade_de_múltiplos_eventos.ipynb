{
  "nbformat": 4,
  "nbformat_minor": 0,
  "metadata": {
    "colab": {
      "provenance": []
    },
    "kernelspec": {
      "name": "python3",
      "display_name": "Python 3"
    },
    "language_info": {
      "name": "python"
    }
  },
  "cells": [
    {
      "cell_type": "code",
      "execution_count": null,
      "metadata": {
        "colab": {
          "base_uri": "https://localhost:8080/"
        },
        "id": "7s8wHDat1RfO",
        "outputId": "3b060aa8-f41c-4873-b9e3-e5bee4f7f223"
      },
      "outputs": [
        {
          "output_type": "stream",
          "name": "stdout",
          "text": [
            "A probabilidade conjunta dos 3 eventos é: 0.32524225092798936\n"
          ]
        }
      ],
      "source": [
        "# Importando a biblioteca necessária\n",
        "import numpy as np\n",
        "\n",
        "# Gerando probabilidades aleatórias para cada evento\n",
        "prob_evento_1 = np.random.uniform(0, 1)\n",
        "prob_evento_2 = np.random.uniform(0, 1)\n",
        "prob_evento_3 = np.random.uniform(0, 1)\n",
        "\n",
        "# Calculando a probabilidade total\n",
        "prob_all_eventos = prob_evento_1 * prob_evento_2 * prob_evento_3\n",
        "\n",
        "# Retornando o resultado ao usuário\n",
        "print(\"A probabilidade conjunta dos 3 eventos é:\", prob_all_eventos)\n"
      ]
    }
  ]
}